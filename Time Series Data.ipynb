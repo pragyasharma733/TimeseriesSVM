{
 "cells": [
  {
   "cell_type": "markdown",
   "id": "42d22510",
   "metadata": {},
   "source": [
    "# Random forest for time series data"
   ]
  },
  {
   "cell_type": "code",
   "execution_count": 2,
   "id": "2b7848b2",
   "metadata": {},
   "outputs": [],
   "source": [
    "import os\n",
    "import pandas as pd\n",
    "import matplotlib.pyplot as plt\n",
    "\n",
    "data = pd.read_csv(\"NYSE.csv\")"
   ]
  },
  {
   "cell_type": "markdown",
   "id": "e39e1db2",
   "metadata": {},
   "source": [
    "Dataset:  NYSE dataset. \n",
    "\n",
    "Only 3 time series in this dataset will be use: DJ_return ( 𝑎𝑡 ), log_volatility ( 𝑏𝑡 ), and log_volume ( 𝑐𝑡 ).\n",
    "\n",
    "The data was originally obtained from the R library ISLR2, and you can read the documentation for the dataset here, which explains the meaning of the variables.\n",
    "\n",
    "GOAL:\n",
    "\n",
    "You want to predict the 1-step ahead value of log_volume  𝑐𝑡+1  using the previous values of this variable and the other two variables (DJ_return and log_volatility) up to 5 lags. So the features are  𝑐𝑡,…,𝑐𝑡−4,𝑏𝑡,…,𝑏𝑡−4,𝑎𝑡,…,𝑎𝑡−4 ."
   ]
  },
  {
   "cell_type": "code",
   "execution_count": 3,
   "id": "dc7946fc",
   "metadata": {},
   "outputs": [
    {
     "data": {
      "text/html": [
       "<div>\n",
       "<style scoped>\n",
       "    .dataframe tbody tr th:only-of-type {\n",
       "        vertical-align: middle;\n",
       "    }\n",
       "\n",
       "    .dataframe tbody tr th {\n",
       "        vertical-align: top;\n",
       "    }\n",
       "\n",
       "    .dataframe thead th {\n",
       "        text-align: right;\n",
       "    }\n",
       "</style>\n",
       "<table border=\"1\" class=\"dataframe\">\n",
       "  <thead>\n",
       "    <tr style=\"text-align: right;\">\n",
       "      <th></th>\n",
       "      <th>date</th>\n",
       "      <th>day_of_week</th>\n",
       "      <th>DJ_return</th>\n",
       "      <th>log_volume</th>\n",
       "      <th>log_volatility</th>\n",
       "      <th>train</th>\n",
       "    </tr>\n",
       "  </thead>\n",
       "  <tbody>\n",
       "    <tr>\n",
       "      <th>0</th>\n",
       "      <td>1962-12-03</td>\n",
       "      <td>mon</td>\n",
       "      <td>-0.004461</td>\n",
       "      <td>0.032573</td>\n",
       "      <td>-13.127403</td>\n",
       "      <td>True</td>\n",
       "    </tr>\n",
       "    <tr>\n",
       "      <th>1</th>\n",
       "      <td>1962-12-04</td>\n",
       "      <td>tues</td>\n",
       "      <td>0.007813</td>\n",
       "      <td>0.346202</td>\n",
       "      <td>-11.749305</td>\n",
       "      <td>True</td>\n",
       "    </tr>\n",
       "    <tr>\n",
       "      <th>2</th>\n",
       "      <td>1962-12-05</td>\n",
       "      <td>wed</td>\n",
       "      <td>0.003845</td>\n",
       "      <td>0.525306</td>\n",
       "      <td>-11.665609</td>\n",
       "      <td>True</td>\n",
       "    </tr>\n",
       "    <tr>\n",
       "      <th>3</th>\n",
       "      <td>1962-12-06</td>\n",
       "      <td>thur</td>\n",
       "      <td>-0.003462</td>\n",
       "      <td>0.210182</td>\n",
       "      <td>-11.626772</td>\n",
       "      <td>True</td>\n",
       "    </tr>\n",
       "    <tr>\n",
       "      <th>4</th>\n",
       "      <td>1962-12-07</td>\n",
       "      <td>fri</td>\n",
       "      <td>0.000568</td>\n",
       "      <td>0.044187</td>\n",
       "      <td>-11.728130</td>\n",
       "      <td>True</td>\n",
       "    </tr>\n",
       "    <tr>\n",
       "      <th>5</th>\n",
       "      <td>1962-12-10</td>\n",
       "      <td>mon</td>\n",
       "      <td>-0.010824</td>\n",
       "      <td>0.133246</td>\n",
       "      <td>-10.872526</td>\n",
       "      <td>True</td>\n",
       "    </tr>\n",
       "    <tr>\n",
       "      <th>6</th>\n",
       "      <td>1962-12-11</td>\n",
       "      <td>tues</td>\n",
       "      <td>0.000124</td>\n",
       "      <td>-0.011528</td>\n",
       "      <td>-10.977797</td>\n",
       "      <td>True</td>\n",
       "    </tr>\n",
       "    <tr>\n",
       "      <th>7</th>\n",
       "      <td>1962-12-12</td>\n",
       "      <td>wed</td>\n",
       "      <td>0.003358</td>\n",
       "      <td>0.001607</td>\n",
       "      <td>-11.012360</td>\n",
       "      <td>True</td>\n",
       "    </tr>\n",
       "    <tr>\n",
       "      <th>8</th>\n",
       "      <td>1962-12-13</td>\n",
       "      <td>thur</td>\n",
       "      <td>-0.003296</td>\n",
       "      <td>-0.106437</td>\n",
       "      <td>-11.047108</td>\n",
       "      <td>True</td>\n",
       "    </tr>\n",
       "    <tr>\n",
       "      <th>9</th>\n",
       "      <td>1962-12-14</td>\n",
       "      <td>fri</td>\n",
       "      <td>0.004469</td>\n",
       "      <td>-0.138269</td>\n",
       "      <td>-11.022063</td>\n",
       "      <td>True</td>\n",
       "    </tr>\n",
       "  </tbody>\n",
       "</table>\n",
       "</div>"
      ],
      "text/plain": [
       "         date day_of_week  DJ_return  log_volume  log_volatility  train\n",
       "0  1962-12-03         mon  -0.004461    0.032573      -13.127403   True\n",
       "1  1962-12-04        tues   0.007813    0.346202      -11.749305   True\n",
       "2  1962-12-05         wed   0.003845    0.525306      -11.665609   True\n",
       "3  1962-12-06        thur  -0.003462    0.210182      -11.626772   True\n",
       "4  1962-12-07         fri   0.000568    0.044187      -11.728130   True\n",
       "5  1962-12-10         mon  -0.010824    0.133246      -10.872526   True\n",
       "6  1962-12-11        tues   0.000124   -0.011528      -10.977797   True\n",
       "7  1962-12-12         wed   0.003358    0.001607      -11.012360   True\n",
       "8  1962-12-13        thur  -0.003296   -0.106437      -11.047108   True\n",
       "9  1962-12-14         fri   0.004469   -0.138269      -11.022063   True"
      ]
     },
     "execution_count": 3,
     "metadata": {},
     "output_type": "execute_result"
    }
   ],
   "source": [
    "import numpy as np\n",
    "import pandas as pd\n",
    "data.head(10)"
   ]
  },
  {
   "cell_type": "code",
   "execution_count": 4,
   "id": "09799146",
   "metadata": {},
   "outputs": [],
   "source": [
    "# creating cross-sectional data using time series data \n",
    "def ts_split(ts, feature_steps=5, target_steps=1):\n",
    "    n_obs = len(ts) - feature_steps - target_steps + 1\n",
    "    X = np.array([ts[idx:idx + feature_steps] for idx in range(n_obs)])\n",
    "    y = np.array([ts[idx + feature_steps:idx + feature_steps + target_steps]\n",
    "                  for idx in range(n_obs)])\n",
    "    return X, y\n",
    "\n",
    "DJ_return = ts_split(data['DJ_return'])[0]\n",
    "log_volatility = ts_split(data['log_volatility'])[0]\n",
    "log_volume, y = ts_split(data['log_volume'])\n",
    "\n",
    "X =  np.hstack((log_volume, DJ_return, log_volatility))"
   ]
  },
  {
   "cell_type": "code",
   "execution_count": 5,
   "id": "113c7f86",
   "metadata": {},
   "outputs": [
    {
     "name": "stdout",
     "output_type": "stream",
     "text": [
      "[[ 3.25730000e-02  3.46202000e-01  5.25306000e-01  2.10182000e-01\n",
      "   4.41870000e-02 -4.46100000e-03  7.81300000e-03  3.84500000e-03\n",
      "  -3.46200000e-03  5.68000000e-04 -1.31274026e+01 -1.17493047e+01\n",
      "  -1.16656090e+01 -1.16267724e+01 -1.17281302e+01]\n",
      " [ 3.46202000e-01  5.25306000e-01  2.10182000e-01  4.41870000e-02\n",
      "   1.33246000e-01  7.81300000e-03  3.84500000e-03 -3.46200000e-03\n",
      "   5.68000000e-04 -1.08240000e-02 -1.17493047e+01 -1.16656090e+01\n",
      "  -1.16267724e+01 -1.17281302e+01 -1.08725263e+01]\n",
      " [ 5.25306000e-01  2.10182000e-01  4.41870000e-02  1.33246000e-01\n",
      "  -1.15280000e-02  3.84500000e-03 -3.46200000e-03  5.68000000e-04\n",
      "  -1.08240000e-02  1.24000000e-04 -1.16656090e+01 -1.16267724e+01\n",
      "  -1.17281302e+01 -1.08725263e+01 -1.09777968e+01]\n",
      " [ 2.10182000e-01  4.41870000e-02  1.33246000e-01 -1.15280000e-02\n",
      "   1.60700000e-03 -3.46200000e-03  5.68000000e-04 -1.08240000e-02\n",
      "   1.24000000e-04  3.35800000e-03 -1.16267724e+01 -1.17281302e+01\n",
      "  -1.08725263e+01 -1.09777968e+01 -1.10123599e+01]\n",
      " [ 4.41870000e-02  1.33246000e-01 -1.15280000e-02  1.60700000e-03\n",
      "  -1.06437000e-01  5.68000000e-04 -1.08240000e-02  1.24000000e-04\n",
      "   3.35800000e-03 -3.29600000e-03 -1.17281302e+01 -1.08725263e+01\n",
      "  -1.09777968e+01 -1.10123599e+01 -1.10471081e+01]]\n",
      "[[ 0.133246]\n",
      " [-0.011528]\n",
      " [ 0.001607]\n",
      " [-0.106437]\n",
      " [-0.138269]]\n"
     ]
    },
    {
     "data": {
      "text/plain": [
       "(6046, 15)"
      ]
     },
     "execution_count": 5,
     "metadata": {},
     "output_type": "execute_result"
    }
   ],
   "source": [
    "print(X[:5])\n",
    "print(y[:5])\n",
    "X.shape"
   ]
  },
  {
   "cell_type": "markdown",
   "id": "ebcd7160",
   "metadata": {},
   "source": [
    "Fitting a random forest to predict the 1-step ahead value of log_volume. \n",
    "\n",
    "Using 3-fold time series CV, with the test set split 50% into a validation set and 50% into the actual test set, to tune the hyperparameters n_estimators taking the values 100, 500, 750, and the cost-complexity pruning parameter  𝛼  taking the values  10−𝑘 ,  𝑘=0,1,…,9 . The performance measure is RMSE. \n",
    "\n"
   ]
  },
  {
   "cell_type": "code",
   "execution_count": 6,
   "id": "f1b11be7",
   "metadata": {},
   "outputs": [],
   "source": [
    "from sklearn.ensemble import RandomForestRegressor\n",
    "from sklearn.model_selection import TimeSeriesSplit\n",
    "\n",
    "tscv = TimeSeriesSplit(n_splits=3)\n",
    "\n",
    "ccp_alpha_list= []\n",
    "\n",
    "for i in range(10):\n",
    "    ccp_alpha_list.append(10**-i)\n",
    "\n",
    "n_estimators_list = [100, 500, 750]\n",
    "\n",
    "\n",
    "def time_series_valid_test(X, y, n_split, valid_or_test, optimal_par=None):\n",
    "    series_len = X.shape[0] \n",
    "\n",
    "    tscv = TimeSeriesSplit(n_splits=n_split)\n",
    "    rf_rmse = []\n",
    "    i = 0\n",
    "    for train_index, test_index in tscv.split(X):\n",
    "        i += 1\n",
    "        # Break test set into 50% validation set, 50% test set\n",
    "        break_test_ind = int(test_index[0] + 0.5*(test_index[-1]-test_index[0]))\n",
    "        valid_index = np.array(list(range(test_index[0],break_test_ind)))\n",
    "        test_index = np.array(list(range(break_test_ind,test_index[-1])))\n",
    "\n",
    "        # Split\n",
    "        X_train, X_valid, X_test = X[train_index], X[valid_index], X[test_index]\n",
    "        y_train, y_valid, y_test = y[train_index], y[valid_index], y[test_index]\n",
    "\n",
    "        # Tuning\n",
    "        if valid_or_test == \"valid\":\n",
    "            for n_estimators in n_estimators_list:\n",
    "                for alpha in ccp_alpha_list:\n",
    "                    model_rf = RandomForestRegressor(random_state=42,n_estimators=n_estimators,\n",
    "                                                     ccp_alpha = alpha,n_jobs=-1)\n",
    "                    model_rf.fit(X_train, y_train.ravel())\n",
    "                    y_val_rf = model_rf.predict(X_valid)\n",
    "                    rf_rmse.append(np.sqrt(mean_squared_error(y_valid, y_val_rf)))\n",
    "        \n",
    "        # Evalulate on test set\n",
    "        if valid_or_test == \"test\":\n",
    "            model_rf = RandomForestRegressor(random_state=42, \n",
    "                       ccp_alpha=optimal_par[0], n_estimators=optimal_par[1],n_jobs=-1)\n",
    "            model_rf.fit(X_train, y_train.ravel())\n",
    "            y_test_rf = model_rf.predict(X_test)\n",
    "            rf_rmse.append(np.sqrt(mean_squared_error(y_test, y_test_rf)))\n",
    "            \n",
    "            # Plot the prediction for the last CV fold\n",
    "            if i == n_split:\n",
    "                plt.plot(range(series_len-test_index.size,series_len),\n",
    "                         y_test_rf, label=\"1-steps ahead prediction\")\n",
    "                plt.plot(range(series_len-test_index.size,series_len),\n",
    "                         y_test, label=\"True value\")\n",
    "                plt.legend(loc=\"upper left\")\n",
    "    \n",
    "    # Average RMSE over CV folds\n",
    "    if valid_or_test == \"valid\":\n",
    "        rf_rmse = np.mean(np.array(rf_rmse).reshape(\n",
    "            n_split, len(ccp_alpha_list)*len(n_estimators_list)), axis=0)\n",
    "        return rf_rmse\n",
    "    \n",
    "    if valid_or_test == \"test\":\n",
    "        rf_rmse = np.mean(rf_rmse)\n",
    "        return rf_rmse, y_test_rf          "
   ]
  },
  {
   "cell_type": "code",
   "execution_count": 7,
   "id": "bf767395",
   "metadata": {},
   "outputs": [
    {
     "name": "stdout",
     "output_type": "stream",
     "text": [
      "['(alpha, n_estimators):', [1, 100]]\n",
      "Model- 1 rmse:  0.2358102502325389\n",
      "['(alpha, n_estimators):', [0.1, 100]]\n",
      "Model- 2 rmse:  0.2358102502325389\n",
      "['(alpha, n_estimators):', [0.01, 100]]\n",
      "Model- 3 rmse:  0.1931776501341703\n",
      "['(alpha, n_estimators):', [0.001, 100]]\n",
      "Model- 4 rmse:  0.1742571823815323\n",
      "['(alpha, n_estimators):', [0.0001, 100]]\n",
      "Model- 5 rmse:  0.1614501523436291\n",
      "['(alpha, n_estimators):', [1e-05, 100]]\n",
      "Model- 6 rmse:  0.1609221218344437\n",
      "['(alpha, n_estimators):', [1e-06, 100]]\n",
      "Model- 7 rmse:  0.1612690171345897\n",
      "['(alpha, n_estimators):', [1e-07, 100]]\n",
      "Model- 8 rmse:  0.16132852989129298\n",
      "['(alpha, n_estimators):', [1e-08, 100]]\n",
      "Model- 9 rmse:  0.16134226586644118\n",
      "['(alpha, n_estimators):', [1e-09, 100]]\n",
      "Model- 10 rmse:  0.1613426447569936\n",
      "['(alpha, n_estimators):', [1, 500]]\n",
      "Model- 11 rmse:  0.23583279057420017\n",
      "['(alpha, n_estimators):', [0.1, 500]]\n",
      "Model- 12 rmse:  0.23583279057420017\n",
      "['(alpha, n_estimators):', [0.01, 500]]\n",
      "Model- 13 rmse:  0.19289278821198516\n",
      "['(alpha, n_estimators):', [0.001, 500]]\n",
      "Model- 14 rmse:  0.1741139415851224\n",
      "['(alpha, n_estimators):', [0.0001, 500]]\n",
      "Model- 15 rmse:  0.16109603191941044\n",
      "['(alpha, n_estimators):', [1e-05, 500]]\n",
      "Model- 16 rmse:  0.1603712805479507\n",
      "['(alpha, n_estimators):', [1e-06, 500]]\n",
      "Model- 17 rmse:  0.16049475493676732\n",
      "['(alpha, n_estimators):', [1e-07, 500]]\n",
      "Model- 18 rmse:  0.16048907831763903\n",
      "['(alpha, n_estimators):', [1e-08, 500]]\n",
      "Model- 19 rmse:  0.16048958413764564\n",
      "['(alpha, n_estimators):', [1e-09, 500]]\n",
      "Model- 20 rmse:  0.16049050149964617\n",
      "['(alpha, n_estimators):', [1, 750]]\n",
      "Model- 21 rmse:  0.23582412722547763\n",
      "['(alpha, n_estimators):', [0.1, 750]]\n",
      "Model- 22 rmse:  0.23582412722547763\n",
      "['(alpha, n_estimators):', [0.01, 750]]\n",
      "Model- 23 rmse:  0.1928692930007393\n",
      "['(alpha, n_estimators):', [0.001, 750]]\n",
      "Model- 24 rmse:  0.17402380547187205\n",
      "['(alpha, n_estimators):', [0.0001, 750]]\n",
      "Model- 25 rmse:  0.16119411919288015\n",
      "['(alpha, n_estimators):', [1e-05, 750]]\n",
      "Model- 26 rmse:  0.16041522977250589\n",
      "['(alpha, n_estimators):', [1e-06, 750]]\n",
      "Model- 27 rmse:  0.1605662577364352\n",
      "['(alpha, n_estimators):', [1e-07, 750]]\n",
      "Model- 28 rmse:  0.1605696585392586\n",
      "['(alpha, n_estimators):', [1e-08, 750]]\n",
      "Model- 29 rmse:  0.16057080772829083\n",
      "['(alpha, n_estimators):', [1e-09, 750]]\n",
      "Model- 30 rmse:  0.16057054352330358\n"
     ]
    }
   ],
   "source": [
    "from sklearn.metrics import mean_squared_error\n",
    "\n",
    "rf_rmse = time_series_valid_test(X, y, 3, \"valid\")\n",
    "ind = 0\n",
    "rmse_arr = []\n",
    "for n_estimators in n_estimators_list:\n",
    "    for alpha in ccp_alpha_list:\n",
    "        print([\"(alpha, n_estimators):\",[alpha, n_estimators]])\n",
    "        rmse_arr.append(rf_rmse[ind])\n",
    "        print(\"Model-\",ind+1,\"rmse: \",rf_rmse[ind])\n",
    "        \n",
    "        ind += 1\n"
   ]
  },
  {
   "cell_type": "code",
   "execution_count": 8,
   "id": "a87db922",
   "metadata": {},
   "outputs": [
    {
     "name": "stdout",
     "output_type": "stream",
     "text": [
      "Min value of rmse = 0.1603712805479507 \n",
      "Best Hyperparameters: ccp_aplha = 10^-5 , n_estimator = 500\n"
     ]
    }
   ],
   "source": [
    "min_value = min(rmse_arr)\n",
    "min_index=rmse_arr.index(min_value)\n",
    "min_index+1\n",
    "\n",
    "print(f'Min value of rmse = {min_value} \\nBest Hyperparameters: ccp_aplha = 10^-5 , n_estimator = 500')"
   ]
  },
  {
   "cell_type": "markdown",
   "id": "4dfcfbd0",
   "metadata": {},
   "source": [
    "RMSE of the best fitting model on the test set\n",
    "\n",
    "plot of the true values and predicted values on the test set of the last fold (the fold closest to the current time) of the CV"
   ]
  },
  {
   "cell_type": "code",
   "execution_count": 9,
   "id": "feb8b742",
   "metadata": {},
   "outputs": [
    {
     "data": {
      "text/plain": [
       "0.18695778279368594"
      ]
     },
     "execution_count": 9,
     "metadata": {},
     "output_type": "execute_result"
    },
    {
     "data": {
      "image/png": "[encoded data removed]",
      "text/plain": [
       "<Figure size 432x288 with 1 Axes>"
      ]
     },
     "metadata": {
      "needs_background": "light"
     },
     "output_type": "display_data"
    }
   ],
   "source": [
    "rf_rmse, y_test_rf = time_series_valid_test(X, y, 3, \"test\", [10**-5, 500])\n",
    "rf_rmse\n"
   ]
  },
  {
   "cell_type": "markdown",
   "id": "6843bbc4",
   "metadata": {},
   "source": [
    "It is often useful to check that your model is not worse than a very simple method of prediction. Compute the RMSE of a model that simply predicts the 1-step ahead value of log_volume  𝑐𝑡+1  as the current value  𝑐𝑡 , and compare this to the best fitting random forest model."
   ]
  },
  {
   "cell_type": "code",
   "execution_count": 10,
   "id": "a0b40da9",
   "metadata": {},
   "outputs": [
    {
     "data": {
      "text/plain": [
       "0.18890174010847652"
      ]
     },
     "execution_count": 10,
     "metadata": {},
     "output_type": "execute_result"
    }
   ],
   "source": [
    "y_simple = data['log_volume'][:-1]\n",
    "y_simple_pred = data['log_volume'][1:]\n",
    "rmse_simple = np.sqrt(mean_squared_error(y_simple, y_simple_pred))\n",
    "rmse_simple"
   ]
  },
  {
   "cell_type": "code",
   "execution_count": 11,
   "id": "a4db1cdf",
   "metadata": {},
   "outputs": [
    {
     "name": "stdout",
     "output_type": "stream",
     "text": [
      "Random Forest works better than Simple Predictor\n"
     ]
    }
   ],
   "source": [
    "print(\"Simple Predictor works better than Random Forest\") if rmse_simple < rf_rmse else print(\"Random Forest works better than Simple Predictor\")"
   ]
  },
  {
   "cell_type": "markdown",
   "id": "56189c79",
   "metadata": {},
   "source": [
    "Computing the feature importances of the best fitting model."
   ]
  },
  {
   "cell_type": "code",
   "execution_count": 12,
   "id": "1826f6e2",
   "metadata": {},
   "outputs": [
    {
     "name": "stdout",
     "output_type": "stream",
     "text": [
      "most important feature is current log_volume c(t)):  [5] \n",
      "feature importance value:  0.5284543420578321\n"
     ]
    }
   ],
   "source": [
    "best_model = RandomForestRegressor(n_estimators=500, ccp_alpha=10**(-5), n_jobs=-1, random_state=42)\n",
    "best_model.fit(X, y.ravel())\n",
    "\n",
    "feat_imp = best_model.feature_importances_\n",
    "val = max(best_model.feature_importances_)\n",
    "index, = np.where(feat_imp == val)\n",
    "print(\"most important feature is current log_volume c(t)): \", index+1 ,\"\\nfeature importance value: \", val)"
   ]
  }
 ],
 "metadata": {
  "kernelspec": {
   "display_name": "Python 3 (ipykernel)",
   "language": "python",
   "name": "python3"
  },
  "language_info": {
   "codemirror_mode": {
    "name": "ipython",
    "version": 3
   },
   "file_extension": ".py",
   "mimetype": "text/x-python",
   "name": "python",
   "nbconvert_exporter": "python",
   "pygments_lexer": "ipython3",
   "version": "3.9.7"
  }
 },
 "nbformat": 4,
 "nbformat_minor": 5
}
